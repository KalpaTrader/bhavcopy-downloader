{
 "cells": [
  {
   "cell_type": "code",
   "execution_count": 1,
   "id": "9cce7409",
   "metadata": {},
   "outputs": [
    {
     "name": "stdout",
     "output_type": "stream",
     "text": [
      "Collecting jugaad-data\n",
      "  Obtaining dependency information for jugaad-data from https://files.pythonhosted.org/packages/49/6c/2ac4435431a7173cb5d0d000d9f9c73c729285f5d0888e36c196c9f30379/jugaad_data-0.25-py3-none-any.whl.metadata\n",
      "  Downloading jugaad_data-0.25-py3-none-any.whl.metadata (5.5 kB)\n",
      "Requirement already satisfied: requests in c:\\users\\lenovo\\anaconda3\\lib\\site-packages (from jugaad-data) (2.31.0)\n",
      "Collecting click==7.1.2 (from jugaad-data)\n",
      "  Downloading click-7.1.2-py2.py3-none-any.whl (82 kB)\n",
      "     ---------------------------------------- 0.0/82.8 kB ? eta -:--:--\n",
      "     ---------------------------------------- 82.8/82.8 kB 1.5 MB/s eta 0:00:00\n",
      "Requirement already satisfied: appdirs==1.4.4 in c:\\users\\lenovo\\anaconda3\\lib\\site-packages (from jugaad-data) (1.4.4)\n",
      "Collecting beautifulsoup4==4.9.3 (from jugaad-data)\n",
      "  Downloading beautifulsoup4-4.9.3-py3-none-any.whl (115 kB)\n",
      "     ---------------------------------------- 0.0/115.8 kB ? eta -:--:--\n",
      "     -------------------------------------- 115.8/115.8 kB 6.6 MB/s eta 0:00:00\n",
      "Requirement already satisfied: soupsieve>1.2 in c:\\users\\lenovo\\anaconda3\\lib\\site-packages (from beautifulsoup4==4.9.3->jugaad-data) (2.4)\n",
      "Requirement already satisfied: charset-normalizer<4,>=2 in c:\\users\\lenovo\\anaconda3\\lib\\site-packages (from requests->jugaad-data) (2.0.4)\n",
      "Requirement already satisfied: idna<4,>=2.5 in c:\\users\\lenovo\\anaconda3\\lib\\site-packages (from requests->jugaad-data) (3.4)\n",
      "Requirement already satisfied: urllib3<3,>=1.21.1 in c:\\users\\lenovo\\anaconda3\\lib\\site-packages (from requests->jugaad-data) (1.26.16)\n",
      "Requirement already satisfied: certifi>=2017.4.17 in c:\\users\\lenovo\\anaconda3\\lib\\site-packages (from requests->jugaad-data) (2023.7.22)\n",
      "Downloading jugaad_data-0.25-py3-none-any.whl (17 kB)\n",
      "Installing collected packages: click, beautifulsoup4, jugaad-data\n",
      "  Attempting uninstall: click\n",
      "    Found existing installation: click 8.0.4\n",
      "    Uninstalling click-8.0.4:\n",
      "      Successfully uninstalled click-8.0.4\n",
      "  Attempting uninstall: beautifulsoup4\n",
      "    Found existing installation: beautifulsoup4 4.12.2\n",
      "    Uninstalling beautifulsoup4-4.12.2:\n",
      "      Successfully uninstalled beautifulsoup4-4.12.2\n",
      "Successfully installed beautifulsoup4-4.9.3 click-7.1.2 jugaad-data-0.25\n",
      "Note: you may need to restart the kernel to use updated packages.\n"
     ]
    },
    {
     "name": "stderr",
     "output_type": "stream",
     "text": [
      "ERROR: pip's dependency resolver does not currently take into account all the packages that are installed. This behaviour is the source of the following dependency conflicts.\n",
      "transformers 2.1.1 requires sentencepiece, which is not installed.\n",
      "black 0.0 requires click>=8.0.0, but you have click 7.1.2 which is incompatible.\n",
      "conda-index 0.2.3 requires click>=8, but you have click 7.1.2 which is incompatible.\n",
      "dask 2023.6.0 requires click>=8.0, but you have click 7.1.2 which is incompatible.\n",
      "distributed 2023.6.0 requires click>=8.0, but you have click 7.1.2 which is incompatible.\n",
      "flask 2.2.2 requires click>=8.0, but you have click 7.1.2 which is incompatible.\n",
      "python-lsp-black 1.2.1 requires black>=22.3.0, but you have black 0.0 which is incompatible.\n",
      "yfinance 0.2.33 requires beautifulsoup4>=4.11.1, but you have beautifulsoup4 4.9.3 which is incompatible.\n"
     ]
    }
   ],
   "source": [
    "pip install jugaad-data"
   ]
  },
  {
   "cell_type": "code",
   "execution_count": 4,
   "id": "9107168f",
   "metadata": {},
   "outputs": [
    {
     "name": "stdout",
     "output_type": "stream",
     "text": [
      "2023-01-26: File is not a zip file\n",
      "2023-01-26: File is not a zip file\n",
      "2023-01-26: File not Found\n",
      "2023-03-07: File is not a zip file\n",
      "2023-03-07: File is not a zip file\n",
      "2023-03-07: File not Found\n",
      "2023-03-30: File is not a zip file\n",
      "2023-03-30: File is not a zip file\n",
      "2023-03-30: File not Found\n",
      "2023-04-04: File is not a zip file\n",
      "2023-04-04: File is not a zip file\n",
      "2023-04-04: File not Found\n",
      "2023-04-07: File is not a zip file\n",
      "2023-04-07: File is not a zip file\n",
      "2023-04-07: File not Found\n",
      "2023-04-14: File is not a zip file\n",
      "2023-04-14: File is not a zip file\n",
      "2023-04-14: File not Found\n",
      "2023-05-01: File is not a zip file\n",
      "2023-05-01: File is not a zip file\n",
      "2023-05-01: File not Found\n",
      "2023-06-29: File is not a zip file\n",
      "2023-06-29: File is not a zip file\n",
      "2023-06-29: File not Found\n",
      "2023-08-15: File is not a zip file\n",
      "2023-08-15: File is not a zip file\n",
      "2023-08-15: File not Found\n",
      "2023-09-19: File is not a zip file\n",
      "2023-09-19: File is not a zip file\n",
      "2023-09-19: File not Found\n",
      "2023-10-02: File is not a zip file\n",
      "2023-10-02: File is not a zip file\n",
      "2023-10-02: File not Found\n",
      "2023-10-24: File is not a zip file\n",
      "2023-10-24: File is not a zip file\n",
      "2023-10-24: File not Found\n",
      "2023-11-14: File is not a zip file\n",
      "2023-11-14: File is not a zip file\n",
      "2023-11-14: File not Found\n",
      "2023-11-27: File is not a zip file\n",
      "2023-11-27: File is not a zip file\n",
      "2023-11-27: File not Found\n"
     ]
    }
   ],
   "source": [
    "from datetime import date\n",
    "from jugaad_data.nse import bhavcopy_save\n",
    "import pandas as pd\n",
    "from jugaad_data.holidays import holidays\n",
    "from random import randint\n",
    "import time\n",
    "import os\n",
    "\n",
    "# Specify your desired path\n",
    "savepath = r'C:\\users\\lenovo\\python codes\\bhavcopy'\n",
    "\n",
    "# Create a folder named 'output_charts' within the specified path\n",
    "output_folder = os.path.join(savepath, 'output_charts')\n",
    "os.makedirs(output_folder, exist_ok=True)\n",
    "\n",
    "date_range = pd.bdate_range(start='11/30/2022', end='11/30/2023',\n",
    "                            freq='C', holidays=holidays(2023, 12)+ holidays(2022,12))\n",
    "\n",
    "# start and end dates in \"MM-DD-YYYY\" format\n",
    "# holidays() function in (year, month) format\n",
    "# freq = 'C' is for custom\n",
    "\n",
    "dates_list = [x.date() for x in date_range]\n",
    "\n",
    "for dates in dates_list:\n",
    "    try:\n",
    "        bhavcopy_save(dates, savepath)\n",
    "        time.sleep(randint(1, 4))  # adding random delay of 1-4 seconds\n",
    "    except Exception as e:\n",
    "        print(f'{dates}: {e}')\n",
    "        time.sleep(10)  # stop program for 10 seconds and try again.\n",
    "        try:\n",
    "            bhavcopy_save(dates, savepath)\n",
    "            time.sleep(randint(1, 4))\n",
    "        except Exception as e:\n",
    "            print(f'{dates}: {e}')\n",
    "            print(f'{dates}: File not Found')\n"
   ]
  },
  {
   "cell_type": "code",
   "execution_count": null,
   "id": "aa73b990",
   "metadata": {},
   "outputs": [],
   "source": []
  }
 ],
 "metadata": {
  "kernelspec": {
   "display_name": "Python 3 (ipykernel)",
   "language": "python",
   "name": "python3"
  },
  "language_info": {
   "codemirror_mode": {
    "name": "ipython",
    "version": 3
   },
   "file_extension": ".py",
   "mimetype": "text/x-python",
   "name": "python",
   "nbconvert_exporter": "python",
   "pygments_lexer": "ipython3",
   "version": "3.11.4"
  }
 },
 "nbformat": 4,
 "nbformat_minor": 5
}
